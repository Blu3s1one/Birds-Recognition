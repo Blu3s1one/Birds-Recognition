{
 "metadata": {
  "language_info": {
   "codemirror_mode": {
    "name": "ipython",
    "version": 3
   },
   "file_extension": ".py",
   "mimetype": "text/x-python",
   "name": "python",
   "nbconvert_exporter": "python",
   "pygments_lexer": "ipython3",
   "version": "3.8.3-final"
  },
  "orig_nbformat": 2,
  "kernelspec": {
   "name": "python3",
   "display_name": "Python 3"
  }
 },
 "nbformat": 4,
 "nbformat_minor": 2,
 "cells": [
  {
   "source": [
    "## DATA AUGMENTATION ##"
   ],
   "cell_type": "markdown",
   "metadata": {}
  },
  {
   "cell_type": "code",
   "execution_count": null,
   "metadata": {},
   "outputs": [],
   "source": [
    "import PIL\n",
    "import numpy as np\n",
    "import torch\n",
    "import torchvision\n",
    "import os"
   ]
  },
  {
   "source": [
    "**The transformation is composed of 4 diffrent sub-transformations: Resize(all images must have the same size), ColorJitter(to change the saturation), RandomHorizontalFlip(to add a mirror effect), and RandomRotation.**"
   ],
   "cell_type": "markdown",
   "metadata": {}
  },
  {
   "cell_type": "code",
   "execution_count": null,
   "metadata": {},
   "outputs": [],
   "source": [
    "## transformation definition ###\n",
    "transforms = torchvision.transforms.Compose([\n",
    "    torchvision.transforms.Resize((224,224)),\n",
    "    torchvision.transforms.ColorJitter(hue=.05, saturation=.05),\n",
    "    torchvision.transforms.RandomHorizontalFlip(),\n",
    "    torchvision.transforms.RandomRotation(20, resample=PIL.Image.BILINEAR)])"
   ]
  },
  {
   "source": [
    "**Create a folder name train path that contains one folder for each species you which data you want to augment. In each folder create a new folder named UselessFolder, that contains the photos of the species **"
   ],
   "cell_type": "markdown",
   "metadata": {}
  },
  {
   "cell_type": "code",
   "execution_count": null,
   "metadata": {},
   "outputs": [],
   "source": [
    "##Execution of the transformation##\n",
    "\n",
    "train_path = r\"C:/train/path/\"            ### enter your path (don't forget the r) ###\n",
    "\n",
    "dataset = {\"espece1\" : [],\n",
    "            \"espece2\" : [],\n",
    "            \"espece3\" : [],\n",
    "            \"espece4\" : [],\n",
    "            \"espece5\" : []}\n",
    "\n",
    "for species_ in os.listdir(train_path):\n",
    "    dataset[species_] = torchvision.datasets.ImageFolder(train_path + species_ + \"UselessFolder\", transform=transforms)"
   ]
  },
  {
   "cell_type": "code",
   "execution_count": null,
   "metadata": {},
   "outputs": [],
   "source": [
    "## Save the images ##\n",
    "\n",
    "for species_ in os.listdir(train_path):\n",
    "    i=0\n",
    "    for im in dataset[species]:\n",
    "        im[0].save(train_path + species + \"UselessFile\", species + str(i))\n",
    "        i+=1"
   ]
  }
 ]
}